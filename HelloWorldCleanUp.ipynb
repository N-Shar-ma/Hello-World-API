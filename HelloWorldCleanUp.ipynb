{
  "nbformat": 4,
  "nbformat_minor": 0,
  "metadata": {
    "colab": {
      "name": "HelloWorldCleanUp.ipynb",
      "provenance": [],
      "authorship_tag": "ABX9TyP/JDzhl3p9kfw2lx2MMfwG",
      "include_colab_link": true
    },
    "kernelspec": {
      "name": "python3",
      "display_name": "Python 3"
    },
    "language_info": {
      "name": "python"
    }
  },
  "cells": [
    {
      "cell_type": "markdown",
      "metadata": {
        "id": "view-in-github",
        "colab_type": "text"
      },
      "source": [
        "<a href=\"https://colab.research.google.com/github/N-Shar-ma/Hello-World-API/blob/master/HelloWorldCleanUp.ipynb\" target=\"_parent\"><img src=\"https://colab.research.google.com/assets/colab-badge.svg\" alt=\"Open In Colab\"/></a>"
      ]
    },
    {
      "cell_type": "code",
      "metadata": {
        "colab": {
          "base_uri": "https://localhost:8080/"
        },
        "id": "TQIhZaLoTDot",
        "outputId": "8ad091da-eeb4-47a9-f047-3f2b992eab6d"
      },
      "source": [
        "!git clone -l -s git://github.com/N-Shar-ma/Hello-World-API.git Hello-World-API\n",
        "%cd Hello-World-API"
      ],
      "execution_count": 1,
      "outputs": [
        {
          "output_type": "stream",
          "name": "stdout",
          "text": [
            "Cloning into 'Hello-World-API'...\n",
            "warning: --local is ignored\n",
            "remote: Enumerating objects: 3, done.\u001b[K\n",
            "remote: Counting objects:  33% (1/3)\u001b[K\rremote: Counting objects:  66% (2/3)\u001b[K\rremote: Counting objects: 100% (3/3)\u001b[K\rremote: Counting objects: 100% (3/3), done.\u001b[K\n",
            "remote: Compressing objects: 100% (2/2), done.\u001b[K\n",
            "remote: Total 3 (delta 0), reused 0 (delta 0), pack-reused 0\u001b[K\n",
            "Receiving objects: 100% (3/3), 53.60 KiB | 13.40 MiB/s, done.\n",
            "/content/Hello-World-API\n",
            "HelloWorld.csv\n"
          ]
        }
      ]
    },
    {
      "cell_type": "code",
      "metadata": {
        "id": "oJJdUpmmVSP1"
      },
      "source": [
        "import numpy as np\n",
        "import pandas as pd\n",
        "import json"
      ],
      "execution_count": 23,
      "outputs": []
    },
    {
      "cell_type": "code",
      "metadata": {
        "colab": {
          "base_uri": "https://localhost:8080/",
          "height": 419
        },
        "id": "e_lOiGT1WXSF",
        "outputId": "242762c2-ee41-443b-cc5e-72c1d6c854a8"
      },
      "source": [
        "df = pd.read_csv('HelloWorld.csv')\n",
        "df = df.drop(columns=['Unnamed: 0'])\n",
        "df = df.drop(df[df['language_name'].str.startswith('~')].index.tolist())\n",
        "df"
      ],
      "execution_count": 18,
      "outputs": [
        {
          "output_type": "execute_result",
          "data": {
            "text/html": [
              "<div>\n",
              "<style scoped>\n",
              "    .dataframe tbody tr th:only-of-type {\n",
              "        vertical-align: middle;\n",
              "    }\n",
              "\n",
              "    .dataframe tbody tr th {\n",
              "        vertical-align: top;\n",
              "    }\n",
              "\n",
              "    .dataframe thead th {\n",
              "        text-align: right;\n",
              "    }\n",
              "</style>\n",
              "<table border=\"1\" class=\"dataframe\">\n",
              "  <thead>\n",
              "    <tr style=\"text-align: right;\">\n",
              "      <th></th>\n",
              "      <th>language_name</th>\n",
              "      <th>extension</th>\n",
              "      <th>program</th>\n",
              "    </tr>\n",
              "  </thead>\n",
              "  <tbody>\n",
              "    <tr>\n",
              "      <th>0</th>\n",
              "      <td>05Ab1E</td>\n",
              "      <td>NaN</td>\n",
              "      <td>\"Hello World</td>\n",
              "    </tr>\n",
              "    <tr>\n",
              "      <th>1</th>\n",
              "      <td>0815</td>\n",
              "      <td>0815</td>\n",
              "      <td>&lt;:48:x&lt;:65:=&lt;:6C:$=$=$$~&lt;:03:+\\n$~&lt;:ffffffffff...</td>\n",
              "    </tr>\n",
              "    <tr>\n",
              "      <th>2</th>\n",
              "      <td>1C Enterprise</td>\n",
              "      <td>NaN</td>\n",
              "      <td>Message(\"Hello World\");\\n</td>\n",
              "    </tr>\n",
              "    <tr>\n",
              "      <th>3</th>\n",
              "      <td>256</td>\n",
              "      <td>256</td>\n",
              "      <td>Hello World</td>\n",
              "    </tr>\n",
              "    <tr>\n",
              "      <th>4</th>\n",
              "      <td>2B</td>\n",
              "      <td>2b</td>\n",
              "      <td>+0+0+0+0+0+0+0+2)+0+0+9)+7))+3)-0-0-0-0-0-0-0-...</td>\n",
              "    </tr>\n",
              "    <tr>\n",
              "      <th>...</th>\n",
              "      <td>...</td>\n",
              "      <td>...</td>\n",
              "      <td>...</td>\n",
              "    </tr>\n",
              "    <tr>\n",
              "      <th>669</th>\n",
              "      <td>Zimbu</td>\n",
              "      <td>zu</td>\n",
              "      <td>FUNC Main() int\\n  IO.write(\"Hello World\\n\")\\n...</td>\n",
              "    </tr>\n",
              "    <tr>\n",
              "      <th>670</th>\n",
              "      <td>Zinc</td>\n",
              "      <td>zn</td>\n",
              "      <td>//! zinc\\nlibrary HelloWorld {\\n    private fu...</td>\n",
              "    </tr>\n",
              "    <tr>\n",
              "      <th>671</th>\n",
              "      <td>Zombie</td>\n",
              "      <td>zombie</td>\n",
              "      <td>HelloWorld is a zombie\\nsummon\\n  task SayHell...</td>\n",
              "    </tr>\n",
              "    <tr>\n",
              "      <th>672</th>\n",
              "      <td>Zonnon</td>\n",
              "      <td>znn</td>\n",
              "      <td>module HelloWorld;\\nbegin\\n    writeln(\"Hello ...</td>\n",
              "    </tr>\n",
              "    <tr>\n",
              "      <th>673</th>\n",
              "      <td>Zsh</td>\n",
              "      <td>zsh</td>\n",
              "      <td>#!/bin/zsh\\necho \"Hello World\"\\n</td>\n",
              "    </tr>\n",
              "  </tbody>\n",
              "</table>\n",
              "<p>670 rows × 3 columns</p>\n",
              "</div>"
            ],
            "text/plain": [
              "     language_name extension                                            program\n",
              "0           05Ab1E       NaN                                       \"Hello World\n",
              "1             0815      0815  <:48:x<:65:=<:6C:$=$=$$~<:03:+\\n$~<:ffffffffff...\n",
              "2    1C Enterprise       NaN                          Message(\"Hello World\");\\n\n",
              "3              256       256                                        Hello World\n",
              "4               2B        2b  +0+0+0+0+0+0+0+2)+0+0+9)+7))+3)-0-0-0-0-0-0-0-...\n",
              "..             ...       ...                                                ...\n",
              "669          Zimbu        zu  FUNC Main() int\\n  IO.write(\"Hello World\\n\")\\n...\n",
              "670           Zinc        zn  //! zinc\\nlibrary HelloWorld {\\n    private fu...\n",
              "671         Zombie    zombie  HelloWorld is a zombie\\nsummon\\n  task SayHell...\n",
              "672         Zonnon       znn  module HelloWorld;\\nbegin\\n    writeln(\"Hello ...\n",
              "673            Zsh       zsh                   #!/bin/zsh\\necho \"Hello World\"\\n\n",
              "\n",
              "[670 rows x 3 columns]"
            ]
          },
          "metadata": {},
          "execution_count": 18
        }
      ]
    },
    {
      "cell_type": "code",
      "metadata": {
        "id": "uGsz-U7rcMn-"
      },
      "source": [
        "df.to_json(path_or_buf='HelloWorld.json', orient=\"records\")"
      ],
      "execution_count": 26,
      "outputs": []
    },
    {
      "cell_type": "code",
      "metadata": {
        "colab": {
          "base_uri": "https://localhost:8080/",
          "height": 17
        },
        "id": "CaSHT-PIc1yk",
        "outputId": "a85b6484-b7a1-4f38-f73e-4820a80f99ac"
      },
      "source": [
        "from google.colab import files\n",
        "files.download('HelloWorld.json')"
      ],
      "execution_count": 29,
      "outputs": [
        {
          "output_type": "display_data",
          "data": {
            "application/javascript": [
              "\n",
              "    async function download(id, filename, size) {\n",
              "      if (!google.colab.kernel.accessAllowed) {\n",
              "        return;\n",
              "      }\n",
              "      const div = document.createElement('div');\n",
              "      const label = document.createElement('label');\n",
              "      label.textContent = `Downloading \"${filename}\": `;\n",
              "      div.appendChild(label);\n",
              "      const progress = document.createElement('progress');\n",
              "      progress.max = size;\n",
              "      div.appendChild(progress);\n",
              "      document.body.appendChild(div);\n",
              "\n",
              "      const buffers = [];\n",
              "      let downloaded = 0;\n",
              "\n",
              "      const channel = await google.colab.kernel.comms.open(id);\n",
              "      // Send a message to notify the kernel that we're ready.\n",
              "      channel.send({})\n",
              "\n",
              "      for await (const message of channel.messages) {\n",
              "        // Send a message to notify the kernel that we're ready.\n",
              "        channel.send({})\n",
              "        if (message.buffers) {\n",
              "          for (const buffer of message.buffers) {\n",
              "            buffers.push(buffer);\n",
              "            downloaded += buffer.byteLength;\n",
              "            progress.value = downloaded;\n",
              "          }\n",
              "        }\n",
              "      }\n",
              "      const blob = new Blob(buffers, {type: 'application/binary'});\n",
              "      const a = document.createElement('a');\n",
              "      a.href = window.URL.createObjectURL(blob);\n",
              "      a.download = filename;\n",
              "      div.appendChild(a);\n",
              "      a.click();\n",
              "      div.remove();\n",
              "    }\n",
              "  "
            ],
            "text/plain": [
              "<IPython.core.display.Javascript object>"
            ]
          },
          "metadata": {}
        },
        {
          "output_type": "display_data",
          "data": {
            "application/javascript": [
              "download(\"download_95dc179b-4db1-49a5-94fb-6adb48edb8cb\", \"HelloWorld.json\", 236390)"
            ],
            "text/plain": [
              "<IPython.core.display.Javascript object>"
            ]
          },
          "metadata": {}
        }
      ]
    }
  ]
}